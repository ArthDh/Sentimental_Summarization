{
 "cells": [
  {
   "cell_type": "code",
   "execution_count": 1,
   "metadata": {},
   "outputs": [],
   "source": [
    "import torch\n",
    "import torch.nn as nn\n",
    "import numpy as np\n",
    "from torch.utils.data import TensorDataset, DataLoader"
   ]
  },
  {
   "cell_type": "code",
   "execution_count": 2,
   "metadata": {},
   "outputs": [
    {
     "name": "stdout",
     "output_type": "stream",
     "text": [
      "Number of training sentences: 11,490\n",
      "\n"
     ]
    },
    {
     "data": {
      "text/html": [
       "<div>\n",
       "<style scoped>\n",
       "    .dataframe tbody tr th:only-of-type {\n",
       "        vertical-align: middle;\n",
       "    }\n",
       "\n",
       "    .dataframe tbody tr th {\n",
       "        vertical-align: top;\n",
       "    }\n",
       "\n",
       "    .dataframe thead th {\n",
       "        text-align: right;\n",
       "    }\n",
       "</style>\n",
       "<table border=\"1\" class=\"dataframe\">\n",
       "  <thead>\n",
       "    <tr style=\"text-align: right;\">\n",
       "      <th></th>\n",
       "      <th>article</th>\n",
       "      <th>highlights</th>\n",
       "      <th>id</th>\n",
       "    </tr>\n",
       "  </thead>\n",
       "  <tbody>\n",
       "    <tr>\n",
       "      <th>8481</th>\n",
       "      <td>It seems a late-night dinner at a fancy restau...</td>\n",
       "      <td>Locals were left wondering who'd done what aft...</td>\n",
       "      <td>b56e50294cadecb4a94acdf6fd0f63e5b930a868</td>\n",
       "    </tr>\n",
       "    <tr>\n",
       "      <th>135</th>\n",
       "      <td>(CNN)At least two people were taken into custo...</td>\n",
       "      <td>Two people are taken into custody, but the pro...</td>\n",
       "      <td>1e1818bffffe5361e3ebe47358e9acf602f33f82</td>\n",
       "    </tr>\n",
       "    <tr>\n",
       "      <th>6341</th>\n",
       "      <td>Real Madrid closed the gap on Barcelona to jus...</td>\n",
       "      <td>Sergio Ramos opened the scoring for Real Madri...</td>\n",
       "      <td>801c81c8a38935f243f12e8271b3cf7efa02dc08</td>\n",
       "    </tr>\n",
       "    <tr>\n",
       "      <th>386</th>\n",
       "      <td>(CNN)Another controversy has erupted from the ...</td>\n",
       "      <td>Chris Evans and Jeremy Renner get in hot water...</td>\n",
       "      <td>568388111f9dd00ef144e7fc6a650b7d01700072</td>\n",
       "    </tr>\n",
       "    <tr>\n",
       "      <th>5424</th>\n",
       "      <td>Angelique Kerber of Germany upset three-time d...</td>\n",
       "      <td>Maria Sharapova lost to Angelique Kerber in St...</td>\n",
       "      <td>68c36241fa78a43645f5736c311e0dd755828951</td>\n",
       "    </tr>\n",
       "    <tr>\n",
       "      <th>254</th>\n",
       "      <td>Dongguan, China (CNN)For a decade, the New Sou...</td>\n",
       "      <td>For a decade, the New South China Mall has lai...</td>\n",
       "      <td>3862305ca71a8f1c5823da03fcfb711beace5e63</td>\n",
       "    </tr>\n",
       "    <tr>\n",
       "      <th>9448</th>\n",
       "      <td>Edwin 'Jock' Mee, (pictured outside court at a...</td>\n",
       "      <td>Edwin 'Jock' Mee, 45, allegedly targeted 11 ca...</td>\n",
       "      <td>cce33348c3c07a7cfc5fcb8ea4e3d69d096ccf42</td>\n",
       "    </tr>\n",
       "    <tr>\n",
       "      <th>5015</th>\n",
       "      <td>Holidaying with the lair of a tiger as your cl...</td>\n",
       "      <td>Natural World Safaris offers tourists the oppo...</td>\n",
       "      <td>5e5cdba2f7cae6fdcabfdd4e47481e362aa55449</td>\n",
       "    </tr>\n",
       "    <tr>\n",
       "      <th>319</th>\n",
       "      <td>(CNN)The verdict of the opinion polls on the U...</td>\n",
       "      <td>No clear winner in opinion polls after first U...</td>\n",
       "      <td>4568e6786809ad535892882ef6a346839de700cc</td>\n",
       "    </tr>\n",
       "    <tr>\n",
       "      <th>2106</th>\n",
       "      <td>Stephanie Scott was due to get married to her ...</td>\n",
       "      <td>Police discovered the body of a female in bush...</td>\n",
       "      <td>1805302601d24e43a5a49a3dd7cb605ef71ac85b</td>\n",
       "    </tr>\n",
       "  </tbody>\n",
       "</table>\n",
       "</div>"
      ],
      "text/plain": [
       "                                                article  \\\n",
       "8481  It seems a late-night dinner at a fancy restau...   \n",
       "135   (CNN)At least two people were taken into custo...   \n",
       "6341  Real Madrid closed the gap on Barcelona to jus...   \n",
       "386   (CNN)Another controversy has erupted from the ...   \n",
       "5424  Angelique Kerber of Germany upset three-time d...   \n",
       "254   Dongguan, China (CNN)For a decade, the New Sou...   \n",
       "9448  Edwin 'Jock' Mee, (pictured outside court at a...   \n",
       "5015  Holidaying with the lair of a tiger as your cl...   \n",
       "319   (CNN)The verdict of the opinion polls on the U...   \n",
       "2106  Stephanie Scott was due to get married to her ...   \n",
       "\n",
       "                                             highlights  \\\n",
       "8481  Locals were left wondering who'd done what aft...   \n",
       "135   Two people are taken into custody, but the pro...   \n",
       "6341  Sergio Ramos opened the scoring for Real Madri...   \n",
       "386   Chris Evans and Jeremy Renner get in hot water...   \n",
       "5424  Maria Sharapova lost to Angelique Kerber in St...   \n",
       "254   For a decade, the New South China Mall has lai...   \n",
       "9448  Edwin 'Jock' Mee, 45, allegedly targeted 11 ca...   \n",
       "5015  Natural World Safaris offers tourists the oppo...   \n",
       "319   No clear winner in opinion polls after first U...   \n",
       "2106  Police discovered the body of a female in bush...   \n",
       "\n",
       "                                            id  \n",
       "8481  b56e50294cadecb4a94acdf6fd0f63e5b930a868  \n",
       "135   1e1818bffffe5361e3ebe47358e9acf602f33f82  \n",
       "6341  801c81c8a38935f243f12e8271b3cf7efa02dc08  \n",
       "386   568388111f9dd00ef144e7fc6a650b7d01700072  \n",
       "5424  68c36241fa78a43645f5736c311e0dd755828951  \n",
       "254   3862305ca71a8f1c5823da03fcfb711beace5e63  \n",
       "9448  cce33348c3c07a7cfc5fcb8ea4e3d69d096ccf42  \n",
       "5015  5e5cdba2f7cae6fdcabfdd4e47481e362aa55449  \n",
       "319   4568e6786809ad535892882ef6a346839de700cc  \n",
       "2106  1805302601d24e43a5a49a3dd7cb605ef71ac85b  "
      ]
     },
     "execution_count": 2,
     "metadata": {},
     "output_type": "execute_result"
    }
   ],
   "source": [
    "import pandas as pd\n",
    "\n",
    "# Load the dataset into a pandas dataframe.\n",
    "df = pd.read_csv(\"Data/test.csv\")\n",
    "\n",
    "# Report the number of sentences.\n",
    "print('Number of training sentences: {:,}\\n'.format(df.shape[0]))\n",
    "\n",
    "# Display 10 random rows from the data.\n",
    "df.sample(10)"
   ]
  },
  {
   "cell_type": "code",
   "execution_count": 3,
   "metadata": {},
   "outputs": [],
   "source": [
    "train_sentence = df.article.values\n",
    "train_target = df.highlights.values"
   ]
  },
  {
   "cell_type": "code",
   "execution_count": 4,
   "metadata": {},
   "outputs": [
    {
     "name": "stdout",
     "output_type": "stream",
     "text": [
      "(11490,) (11490,)\n"
     ]
    }
   ],
   "source": [
    "print(train_sentence.shape, train_target.shape)"
   ]
  },
  {
   "cell_type": "code",
   "execution_count": 5,
   "metadata": {},
   "outputs": [],
   "source": [
    "train_sentence = list(train_sentence)\n",
    "train_target = list(train_target)"
   ]
  },
  {
   "cell_type": "markdown",
   "metadata": {},
   "source": [
    "### Tokenize"
   ]
  },
  {
   "cell_type": "code",
   "execution_count": 8,
   "metadata": {},
   "outputs": [
    {
     "name": "stderr",
     "output_type": "stream",
     "text": [
      "/home/saiashish/.local/lib/python3.6/site-packages/torch/cuda/__init__.py:52: UserWarning: CUDA initialization: The NVIDIA driver on your system is too old (found version 9020). Please update your GPU driver by downloading and installing a new version from the URL: http://www.nvidia.com/Download/index.aspx Alternatively, go to: https://pytorch.org to install a PyTorch version that has been compiled with your version of the CUDA driver. (Triggered internally at  /pytorch/c10/cuda/CUDAFunctions.cpp:100.)\n",
      "  return torch._C._cuda_getDeviceCount() > 0\n"
     ]
    },
    {
     "name": "stdout",
     "output_type": "stream",
     "text": [
      "Loading BART tokenizer...\n"
     ]
    }
   ],
   "source": [
    "from transformers import BartTokenizer, BartForConditionalGeneration\n",
    "# Load the BART tokenizer.\n",
    "print('Loading BART tokenizer...')\n",
    "tokenizer = BartTokenizer.from_pretrained('facebook/bart-base')"
   ]
  },
  {
   "cell_type": "code",
   "execution_count": 9,
   "metadata": {},
   "outputs": [],
   "source": [
    "article_encoding = tokenizer(train_sentence, return_tensors='pt', padding=True, truncation = True)"
   ]
  },
  {
   "cell_type": "code",
   "execution_count": 10,
   "metadata": {},
   "outputs": [],
   "source": [
    "article_input_ids = article_encoding['input_ids']\n",
    "article_attention_mask = article_encoding['attention_mask']"
   ]
  },
  {
   "cell_type": "code",
   "execution_count": 11,
   "metadata": {},
   "outputs": [
    {
     "name": "stdout",
     "output_type": "stream",
     "text": [
      "torch.Size([11490, 1024]) torch.Size([11490, 1024])\n"
     ]
    }
   ],
   "source": [
    "print(article_input_ids.shape, article_attention_mask.shape)"
   ]
  },
  {
   "cell_type": "code",
   "execution_count": 12,
   "metadata": {},
   "outputs": [],
   "source": [
    "target_encoding = tokenizer(train_target, return_tensors='pt', padding=True, truncation = True)"
   ]
  },
  {
   "cell_type": "code",
   "execution_count": 13,
   "metadata": {},
   "outputs": [],
   "source": [
    "target_input_ids = target_encoding['input_ids']\n",
    "target_attention_mask = target_encoding['attention_mask']"
   ]
  },
  {
   "cell_type": "code",
   "execution_count": 14,
   "metadata": {},
   "outputs": [
    {
     "name": "stdout",
     "output_type": "stream",
     "text": [
      "torch.Size([11490, 847]) torch.Size([11490, 847])\n"
     ]
    }
   ],
   "source": [
    "print(target_input_ids.shape, target_attention_mask.shape)"
   ]
  },
  {
   "cell_type": "markdown",
   "metadata": {},
   "source": [
    "### Dataloader"
   ]
  },
  {
   "cell_type": "code",
   "execution_count": 15,
   "metadata": {},
   "outputs": [],
   "source": [
    "from torch.utils.data import TensorDataset, DataLoader, RandomSampler, SequentialSampler\n",
    "# The DataLoader needs to know our batch size for training, so we specify it \n",
    "# here.\n",
    "# For fine-tuning BERT on a specific task, the authors recommend a batch size of\n",
    "# 16 or 32.\n",
    "batch_size = 16\n",
    "# Create the DataLoader for our training set.\n",
    "train_data = TensorDataset(article_input_ids, article_attention_mask, target_input_ids, target_attention_mask)"
   ]
  },
  {
   "cell_type": "code",
   "execution_count": null,
   "metadata": {},
   "outputs": [],
   "source": [
    "train_sampler = RandomSampler(train_data)"
   ]
  },
  {
   "cell_type": "code",
   "execution_count": 18,
   "metadata": {},
   "outputs": [],
   "source": [
    "train_dataloader = DataLoader(train_data, sampler=train_sampler, batch_size=batch_size)"
   ]
  },
  {
   "cell_type": "markdown",
   "metadata": {},
   "source": [
    "### Loss"
   ]
  },
  {
   "cell_type": "code",
   "execution_count": 38,
   "metadata": {},
   "outputs": [],
   "source": [
    "# The loss function\n",
    "def loss_fn(lm_logits, labels):\n",
    "    loss_fct = CrossEntropyLoss(ignore_index = tokenizer.pad_token_id)\n",
    "    loss = loss_fct(lm_logits.view(-1, vocab_size), labels.view(-1))\n",
    "    return loss\n",
    "    "
   ]
  },
  {
   "cell_type": "code",
   "execution_count": null,
   "metadata": {},
   "outputs": [],
   "source": [
    "# Import the model\n",
    "model = BartForConditionalGeneration.from_pretrained('facebook/bart-base')\n",
    "model.train()"
   ]
  },
  {
   "cell_type": "code",
   "execution_count": null,
   "metadata": {},
   "outputs": [],
   "source": [
    "optimizer = torch.optim.SGD(model_decoder.bart_model.model.decoder.parameters(),1e-3,momentum=0.9,weight_decay=0.01)"
   ]
  },
  {
   "cell_type": "code",
   "execution_count": null,
   "metadata": {},
   "outputs": [],
   "source": [
    "epochs = 500\n",
    "\n",
    "for eps in range(epochs):\n",
    "    # For each batch of training data...\n",
    "    print('Epoch: ', eps)\n",
    "    for step, batch in enumerate(train_dataloader):\n",
    "        \n",
    "        model.train()\n",
    "        \n",
    "        optimizer.zero_grad()\n",
    "        \n",
    "        out = model_decoder(input_ids=batch[0], output_ids=batch[2], encoder_attention_mask=batch[1], decoder_attention_mask=batch[3])\n",
    "        \n",
    "        loss = loss_fn(out.logits, target_ids)\n",
    "    \n",
    "        # For each batch of training data... print loss and the batch number\n",
    "        print(\"Step: %d, Loss: %.3f\" % (step, loss.item()))\n",
    "\n",
    "        print([tokenizer.decode(g, skip_special_tokens=True, clean_up_tokenization_spaces=False) for g in out.logits.argmax(dim = 2)])\n",
    "    \n",
    "        loss.backward()\n",
    "        optimizer.step()"
   ]
  }
 ],
 "metadata": {
  "kernelspec": {
   "display_name": "Python 3",
   "language": "python",
   "name": "python3"
  },
  "language_info": {
   "codemirror_mode": {
    "name": "ipython",
    "version": 3
   },
   "file_extension": ".py",
   "mimetype": "text/x-python",
   "name": "python",
   "nbconvert_exporter": "python",
   "pygments_lexer": "ipython3",
   "version": "3.6.12"
  }
 },
 "nbformat": 4,
 "nbformat_minor": 4
}

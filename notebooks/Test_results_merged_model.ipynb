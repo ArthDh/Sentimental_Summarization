{
 "cells": [
  {
   "cell_type": "code",
   "execution_count": 1,
   "metadata": {},
   "outputs": [],
   "source": [
    "import os\n",
    "import time\n",
    "import json\n",
    "\n",
    "from utils.file_utils import *\n",
    "from datasets import list_datasets\n",
    "import torch\n",
    "import torch.nn as nn\n",
    "import numpy as np\n",
    "from torch.utils.data import TensorDataset, DataLoader\n",
    "import torch.nn.functional as F\n",
    "from torch.nn import CrossEntropyLoss\n",
    "from IPython import get_ipython\n",
    "import pandas as pd\n",
    "from tqdm import tqdm\n",
    "# from Sai_Test.MergeModel import *\n",
    "# from Sai_Test.ClassifierModel import *\n",
    "import matplotlib.pyplot as plt\n",
    "from transformers import BartTokenizer, BartForConditionalGeneration, BartForSequenceClassification\n",
    "from datasets import load_dataset\n",
    "from torch.utils.data import TensorDataset, DataLoader, RandomSampler, SequentialSampler\n",
    "from MergeModel import *\n",
    "from ClassifierModel import *\n",
    "\n",
    "get_ipython().run_line_magic('load_ext', 'autoreload')\n",
    "get_ipython().run_line_magic('autoreload', 2)"
   ]
  },
  {
   "cell_type": "code",
   "execution_count": 2,
   "metadata": {},
   "outputs": [
    {
     "name": "stdout",
     "output_type": "stream",
     "text": [
      "BART_classifier_final.pt      __pycache__\r\n",
      "classifier_model.pt\t      save_train_imgs.mat\r\n",
      "ClassifierModel.py\t      save_train_labels.mat\r\n",
      "classifier_model_senticlf.pt  Sentiment_Classifier.ipynb\r\n",
      "experiment\t\t      Test.ipynb\r\n",
      "Grid_search.ipynb\t      Test_results_bart_model.ipynb\r\n",
      "MergeModel.py\t\t      Test_results_merged_model.ipynb\r\n",
      "MergeModel_Train.ipynb\t      utils\r\n"
     ]
    }
   ],
   "source": [
    "!ls"
   ]
  },
  {
   "cell_type": "code",
   "execution_count": 6,
   "metadata": {},
   "outputs": [],
   "source": [
    "tokenizer = BartTokenizer.from_pretrained('facebook/bart-base')\n",
    "vocab_size = tokenizer.vocab_size"
   ]
  },
  {
   "cell_type": "code",
   "execution_count": 8,
   "metadata": {},
   "outputs": [],
   "source": [
    "sent_model = ClassifierModel(vocab_size, 64, 2, 2, 512).cuda()\n",
    "summary_model = BartForConditionalGeneration.from_pretrained('facebook/bart-base').cuda()"
   ]
  },
  {
   "cell_type": "code",
   "execution_count": 9,
   "metadata": {},
   "outputs": [],
   "source": [
    "merge_model = MergeModel(summary_model, sent_model)"
   ]
  },
  {
   "cell_type": "code",
   "execution_count": 10,
   "metadata": {},
   "outputs": [],
   "source": [
    "merge_model.load_state_dict(torch.load('experiment/BART_classifier_final.pt'))\n",
    "merge_model = merge_model.cuda()"
   ]
  },
  {
   "cell_type": "markdown",
   "metadata": {},
   "source": [
    "CLF"
   ]
  },
  {
   "cell_type": "code",
   "execution_count": 7,
   "metadata": {},
   "outputs": [
    {
     "name": "stderr",
     "output_type": "stream",
     "text": [
      "Reusing dataset imdb (/tmp/xdg-cache/huggingface/datasets/imdb/plain_text/1.0.0/90099cb476936b753383ba2ae6ab2eae419b2e87f71cd5189cb9c8e5814d12a3)\n"
     ]
    }
   ],
   "source": [
    "dataset = load_dataset(\"imdb\")"
   ]
  },
  {
   "cell_type": "code",
   "execution_count": 8,
   "metadata": {},
   "outputs": [],
   "source": [
    "train_batch = dataset['train']['text']\n",
    "train_labels = torch.tensor(dataset['train']['label'])\n",
    "val_batch = dataset['test']['text']\n",
    "val_labels = torch.tensor(dataset['test']['label'])"
   ]
  },
  {
   "cell_type": "code",
   "execution_count": 9,
   "metadata": {},
   "outputs": [],
   "source": [
    "seq_length = 150\n",
    "input_encoding = tokenizer(train_batch, return_tensors='pt', padding=True, truncation = True, max_length=seq_length)\n",
    "val_encoding = tokenizer(val_batch, return_tensors='pt', padding=True, truncation = True, max_length=seq_length)"
   ]
  },
  {
   "cell_type": "code",
   "execution_count": 10,
   "metadata": {},
   "outputs": [],
   "source": [
    "input_ids = input_encoding['input_ids']\n",
    "input_mask = input_encoding['attention_mask']"
   ]
  },
  {
   "cell_type": "code",
   "execution_count": 11,
   "metadata": {},
   "outputs": [],
   "source": [
    "val_ids = val_encoding['input_ids']\n",
    "val_mask = val_encoding['attention_mask']"
   ]
  },
  {
   "cell_type": "markdown",
   "metadata": {},
   "source": [
    "SUMMARY"
   ]
  },
  {
   "cell_type": "code",
   "execution_count": 11,
   "metadata": {},
   "outputs": [
    {
     "name": "stdout",
     "output_type": "stream",
     "text": [
      "Number of training sentences: 11,490\n",
      "\n"
     ]
    },
    {
     "data": {
      "text/html": [
       "<div>\n",
       "<style scoped>\n",
       "    .dataframe tbody tr th:only-of-type {\n",
       "        vertical-align: middle;\n",
       "    }\n",
       "\n",
       "    .dataframe tbody tr th {\n",
       "        vertical-align: top;\n",
       "    }\n",
       "\n",
       "    .dataframe thead th {\n",
       "        text-align: right;\n",
       "    }\n",
       "</style>\n",
       "<table border=\"1\" class=\"dataframe\">\n",
       "  <thead>\n",
       "    <tr style=\"text-align: right;\">\n",
       "      <th></th>\n",
       "      <th>article</th>\n",
       "      <th>highlights</th>\n",
       "      <th>id</th>\n",
       "    </tr>\n",
       "  </thead>\n",
       "  <tbody>\n",
       "    <tr>\n",
       "      <th>8922</th>\n",
       "      <td>The second in command at the sheriff's departm...</td>\n",
       "      <td>Tim Albin of the Tulsa County Sheriff's Office...</td>\n",
       "      <td>c02c4dd532284e36ac6fb158ad58b359acbb9f42</td>\n",
       "    </tr>\n",
       "    <tr>\n",
       "      <th>10628</th>\n",
       "      <td>Tottenham target Kevin Wimmer will move to Eng...</td>\n",
       "      <td>Cologne defender Kevin Wimmer is a £4.4million...</td>\n",
       "      <td>eaa38cd30802e3df64d8b8251292de205cf88c0b</td>\n",
       "    </tr>\n",
       "    <tr>\n",
       "      <th>5720</th>\n",
       "      <td>A Briton jailed in Burma for using an image of...</td>\n",
       "      <td>Phil Blackwood was sentenced to two-and-a-half...</td>\n",
       "      <td>6fe7f20e98833deea2cc54f26571496101788a49</td>\n",
       "    </tr>\n",
       "    <tr>\n",
       "      <th>9334</th>\n",
       "      <td>Activated charcoal is thought to act as a 'det...</td>\n",
       "      <td>Dietitian Sophie Claessens picks the latest 'm...</td>\n",
       "      <td>ca3ed0691af054a8b3ab95593b8ec81e5ebfdeab</td>\n",
       "    </tr>\n",
       "    <tr>\n",
       "      <th>8529</th>\n",
       "      <td>Just days after Bruce Jenner's powerful interv...</td>\n",
       "      <td>Scott Turner Schofield has landed a role on th...</td>\n",
       "      <td>b69be56fc67aa3734fd3fff5f4673893d5bc0434</td>\n",
       "    </tr>\n",
       "    <tr>\n",
       "      <th>1025</th>\n",
       "      <td>Ali Addeh refugee camp, Djibouti (CNN)Henol an...</td>\n",
       "      <td>For 25 years, Ali Addeh refugee camp has been ...</td>\n",
       "      <td>f588be66f67386056c4f771af390a1845a702415</td>\n",
       "    </tr>\n",
       "    <tr>\n",
       "      <th>695</th>\n",
       "      <td>(CNN)Mark Ronson's \"Uptown Funk!,\" featuring B...</td>\n",
       "      <td>The song rules the chart for 13th week .\\nIt p...</td>\n",
       "      <td>a43893ac704663476a285673392de84c0c17d4e5</td>\n",
       "    </tr>\n",
       "    <tr>\n",
       "      <th>2241</th>\n",
       "      <td>This is the moment a heroic teenage Baskin Rob...</td>\n",
       "      <td>Rachael Bishop, 19, at first pleaded with the ...</td>\n",
       "      <td>1bb70c912148cb8b7aa7247bcb723602d864ef68</td>\n",
       "    </tr>\n",
       "    <tr>\n",
       "      <th>4778</th>\n",
       "      <td>Thierry Henry has responded to critics who dis...</td>\n",
       "      <td>Javier Hernandez scored a late goal to secure ...</td>\n",
       "      <td>5907dc116da34857e9dc0b647769afb3f0338c95</td>\n",
       "    </tr>\n",
       "    <tr>\n",
       "      <th>8523</th>\n",
       "      <td>England wing Christian Wade has been slammed b...</td>\n",
       "      <td>The Matt Hampson foundation held an event on W...</td>\n",
       "      <td>b6865e6147f9e5c5fa962d0f67b8f4bddf0e8899</td>\n",
       "    </tr>\n",
       "  </tbody>\n",
       "</table>\n",
       "</div>"
      ],
      "text/plain": [
       "                                                 article  \\\n",
       "8922   The second in command at the sheriff's departm...   \n",
       "10628  Tottenham target Kevin Wimmer will move to Eng...   \n",
       "5720   A Briton jailed in Burma for using an image of...   \n",
       "9334   Activated charcoal is thought to act as a 'det...   \n",
       "8529   Just days after Bruce Jenner's powerful interv...   \n",
       "1025   Ali Addeh refugee camp, Djibouti (CNN)Henol an...   \n",
       "695    (CNN)Mark Ronson's \"Uptown Funk!,\" featuring B...   \n",
       "2241   This is the moment a heroic teenage Baskin Rob...   \n",
       "4778   Thierry Henry has responded to critics who dis...   \n",
       "8523   England wing Christian Wade has been slammed b...   \n",
       "\n",
       "                                              highlights  \\\n",
       "8922   Tim Albin of the Tulsa County Sheriff's Office...   \n",
       "10628  Cologne defender Kevin Wimmer is a £4.4million...   \n",
       "5720   Phil Blackwood was sentenced to two-and-a-half...   \n",
       "9334   Dietitian Sophie Claessens picks the latest 'm...   \n",
       "8529   Scott Turner Schofield has landed a role on th...   \n",
       "1025   For 25 years, Ali Addeh refugee camp has been ...   \n",
       "695    The song rules the chart for 13th week .\\nIt p...   \n",
       "2241   Rachael Bishop, 19, at first pleaded with the ...   \n",
       "4778   Javier Hernandez scored a late goal to secure ...   \n",
       "8523   The Matt Hampson foundation held an event on W...   \n",
       "\n",
       "                                             id  \n",
       "8922   c02c4dd532284e36ac6fb158ad58b359acbb9f42  \n",
       "10628  eaa38cd30802e3df64d8b8251292de205cf88c0b  \n",
       "5720   6fe7f20e98833deea2cc54f26571496101788a49  \n",
       "9334   ca3ed0691af054a8b3ab95593b8ec81e5ebfdeab  \n",
       "8529   b69be56fc67aa3734fd3fff5f4673893d5bc0434  \n",
       "1025   f588be66f67386056c4f771af390a1845a702415  \n",
       "695    a43893ac704663476a285673392de84c0c17d4e5  \n",
       "2241   1bb70c912148cb8b7aa7247bcb723602d864ef68  \n",
       "4778   5907dc116da34857e9dc0b647769afb3f0338c95  \n",
       "8523   b6865e6147f9e5c5fa962d0f67b8f4bddf0e8899  "
      ]
     },
     "execution_count": 11,
     "metadata": {},
     "output_type": "execute_result"
    }
   ],
   "source": [
    "df = pd.read_csv(\"../BART/test.csv\")\n",
    "\n",
    "# Report the number of sentences.\n",
    "print('Number of training sentences: {:,}\\n'.format(df.shape[0]))\n",
    "\n",
    "# Display 10 random rows from the data.\n",
    "df.sample(10)"
   ]
  },
  {
   "cell_type": "code",
   "execution_count": 12,
   "metadata": {},
   "outputs": [],
   "source": [
    "train_sentence = df.article.values\n",
    "train_target = df.highlights.values\n",
    "\n",
    "\n",
    "num_data_points = 500\n",
    "train_sentence = list(train_sentence)[:num_data_points]\n",
    "train_target = list(train_target)[:num_data_points]"
   ]
  },
  {
   "cell_type": "code",
   "execution_count": 13,
   "metadata": {},
   "outputs": [],
   "source": [
    "article_encoding = tokenizer(train_sentence, return_tensors='pt', padding=True, truncation = True, max_length=500)\n",
    "summary_encoding = tokenizer(train_target, return_tensors='pt', padding=True,truncation = True, max_length=100)"
   ]
  },
  {
   "cell_type": "code",
   "execution_count": 14,
   "metadata": {},
   "outputs": [],
   "source": [
    "article_input_ids = article_encoding['input_ids']\n",
    "article_attention_mask = article_encoding['attention_mask']"
   ]
  },
  {
   "cell_type": "code",
   "execution_count": 15,
   "metadata": {},
   "outputs": [],
   "source": [
    "summary_input_ids = summary_encoding['input_ids']\n",
    "summary_attention_mask = summary_encoding['attention_mask']"
   ]
  },
  {
   "cell_type": "code",
   "execution_count": 16,
   "metadata": {},
   "outputs": [
    {
     "ename": "NameError",
     "evalue": "name 'input_ids' is not defined",
     "output_type": "error",
     "traceback": [
      "\u001b[0;31m---------------------------------------------------------------------------\u001b[0m",
      "\u001b[0;31mNameError\u001b[0m                                 Traceback (most recent call last)",
      "\u001b[0;32m<ipython-input-16-fa5ba5b83da8>\u001b[0m in \u001b[0;36m<module>\u001b[0;34m\u001b[0m\n\u001b[1;32m      1\u001b[0m \u001b[0mbatch_size\u001b[0m \u001b[0;34m=\u001b[0m \u001b[0;36m1\u001b[0m\u001b[0;34m\u001b[0m\u001b[0;34m\u001b[0m\u001b[0m\n\u001b[1;32m      2\u001b[0m \u001b[0;34m\u001b[0m\u001b[0m\n\u001b[0;32m----> 3\u001b[0;31m \u001b[0mtrain_data\u001b[0m \u001b[0;34m=\u001b[0m \u001b[0mTensorDataset\u001b[0m\u001b[0;34m(\u001b[0m\u001b[0minput_ids\u001b[0m\u001b[0;34m,\u001b[0m \u001b[0minput_mask\u001b[0m\u001b[0;34m,\u001b[0m \u001b[0mtrain_labels\u001b[0m\u001b[0;34m)\u001b[0m\u001b[0;34m\u001b[0m\u001b[0;34m\u001b[0m\u001b[0m\n\u001b[0m\u001b[1;32m      4\u001b[0m \u001b[0mtrain_sampler\u001b[0m \u001b[0;34m=\u001b[0m \u001b[0mRandomSampler\u001b[0m\u001b[0;34m(\u001b[0m\u001b[0mtrain_data\u001b[0m\u001b[0;34m)\u001b[0m\u001b[0;34m\u001b[0m\u001b[0;34m\u001b[0m\u001b[0m\n\u001b[1;32m      5\u001b[0m \u001b[0mtrain_dataloader_clf\u001b[0m \u001b[0;34m=\u001b[0m \u001b[0mDataLoader\u001b[0m\u001b[0;34m(\u001b[0m\u001b[0mtrain_data\u001b[0m\u001b[0;34m,\u001b[0m \u001b[0msampler\u001b[0m\u001b[0;34m=\u001b[0m\u001b[0mtrain_sampler\u001b[0m\u001b[0;34m,\u001b[0m \u001b[0mbatch_size\u001b[0m\u001b[0;34m=\u001b[0m\u001b[0mbatch_size\u001b[0m\u001b[0;34m)\u001b[0m\u001b[0;34m\u001b[0m\u001b[0;34m\u001b[0m\u001b[0m\n",
      "\u001b[0;31mNameError\u001b[0m: name 'input_ids' is not defined"
     ]
    }
   ],
   "source": [
    "batch_size = 1\n",
    "\n",
    "train_data = TensorDataset(input_ids, input_mask, train_labels)\n",
    "train_sampler = RandomSampler(train_data)\n",
    "train_dataloader_clf = DataLoader(train_data, sampler=train_sampler, batch_size=batch_size)"
   ]
  },
  {
   "cell_type": "code",
   "execution_count": 17,
   "metadata": {},
   "outputs": [],
   "source": [
    "batch_size = 4\n",
    "train_data = TensorDataset(article_input_ids, article_attention_mask,\\\n",
    "                           summary_input_ids, summary_attention_mask)"
   ]
  },
  {
   "cell_type": "code",
   "execution_count": 18,
   "metadata": {},
   "outputs": [],
   "source": [
    "train_sampler = RandomSampler(train_data)\n",
    "train_dataloader = DataLoader(train_data, sampler=train_sampler, batch_size=batch_size)"
   ]
  },
  {
   "cell_type": "code",
   "execution_count": 19,
   "metadata": {},
   "outputs": [],
   "source": [
    "from nltk.translate.bleu_score import sentence_bleu"
   ]
  },
  {
   "cell_type": "code",
   "execution_count": 20,
   "metadata": {},
   "outputs": [],
   "source": [
    "def get_bleu(reference, candidate):\n",
    "    score1 = sentence_bleu(reference, candidate, weights=(1, 0, 0, 0))    \n",
    "    return score1"
   ]
  },
  {
   "cell_type": "code",
   "execution_count": 21,
   "metadata": {},
   "outputs": [
    {
     "ename": "NameError",
     "evalue": "name 'train_dataloader_clf' is not defined",
     "output_type": "error",
     "traceback": [
      "\u001b[0;31m---------------------------------------------------------------------------\u001b[0m",
      "\u001b[0;31mNameError\u001b[0m                                 Traceback (most recent call last)",
      "\u001b[0;32m<ipython-input-21-b316b3fdbca0>\u001b[0m in \u001b[0;36m<module>\u001b[0;34m\u001b[0m\n\u001b[0;32m----> 1\u001b[0;31m \u001b[0mc1\u001b[0m\u001b[0;34m,\u001b[0m\u001b[0mc2\u001b[0m\u001b[0;34m,\u001b[0m\u001b[0mc3\u001b[0m \u001b[0;34m=\u001b[0m \u001b[0mnext\u001b[0m\u001b[0;34m(\u001b[0m\u001b[0miter\u001b[0m\u001b[0;34m(\u001b[0m\u001b[0mtrain_dataloader_clf\u001b[0m\u001b[0;34m)\u001b[0m\u001b[0;34m)\u001b[0m\u001b[0;34m\u001b[0m\u001b[0;34m\u001b[0m\u001b[0m\n\u001b[0m\u001b[1;32m      2\u001b[0m \u001b[0mc1\u001b[0m \u001b[0;34m=\u001b[0m \u001b[0mc1\u001b[0m\u001b[0;34m.\u001b[0m\u001b[0mcuda\u001b[0m\u001b[0;34m(\u001b[0m\u001b[0;34m)\u001b[0m\u001b[0;34m\u001b[0m\u001b[0;34m\u001b[0m\u001b[0m\n\u001b[1;32m      3\u001b[0m \u001b[0mc2\u001b[0m \u001b[0;34m=\u001b[0m \u001b[0mc2\u001b[0m\u001b[0;34m.\u001b[0m\u001b[0mcuda\u001b[0m\u001b[0;34m(\u001b[0m\u001b[0;34m)\u001b[0m\u001b[0;34m\u001b[0m\u001b[0;34m\u001b[0m\u001b[0m\n\u001b[1;32m      4\u001b[0m \u001b[0mc3\u001b[0m \u001b[0;34m=\u001b[0m \u001b[0mc3\u001b[0m\u001b[0;34m.\u001b[0m\u001b[0mcuda\u001b[0m\u001b[0;34m(\u001b[0m\u001b[0;34m)\u001b[0m\u001b[0;34m\u001b[0m\u001b[0;34m\u001b[0m\u001b[0m\n",
      "\u001b[0;31mNameError\u001b[0m: name 'train_dataloader_clf' is not defined"
     ]
    }
   ],
   "source": [
    "c1,c2,c3 = next(iter(train_dataloader_clf)) \n",
    "c1 = c1.cuda() \n",
    "c2 = c2.cuda() \n",
    "c3 = c3.cuda() "
   ]
  },
  {
   "cell_type": "code",
   "execution_count": 60,
   "metadata": {},
   "outputs": [],
   "source": [
    "b1,b2,b3,b4 = next(iter(train_dataloader)) \n",
    "b1 = b1.cuda() \n",
    "b2 = b2.cuda() \n",
    "b3 = b3.cuda() \n",
    "b4 = b4.cuda()"
   ]
  },
  {
   "cell_type": "code",
   "execution_count": 61,
   "metadata": {},
   "outputs": [
    {
     "data": {
      "text/plain": [
       "'(CNN)The leader of Yemen\\'s Houthi rebels vowed not to back down on Sunday as a top Saudi military official claimed weeks of airstrikes had significantly weakened the Shiite group. \"Our fighters will not evacuate from the main cities or the government institutions,\" rebel leader Abdul-Malik al-Houthi said in a televised address. \"Anyone who thinks we will surrender is dreaming.\" His comments came after more than three weeks of Saudi-led coalition bombings aimed at pushing back the Houthis, who surged into the capital of Sanaa in January and ousted President Abdu Rabu Mansour Hadi from power. Hadi still claims he\\'s Yemen\\'s legitimate leader and is working with the Saudis and other allies to return to his country. Since mid-March, more than 700 people have been killed in violence that shows no sign of slowing, according to figures from the World Health Organization. The Houthis say they have the support of the country\\'s people behind them. \"It\\'s the right of the Yemeni people to stand against the attacks in all possible means as long as the attacks continue,\" Al-Houthi said Sunday. \"After our people move and react against the attacks and killing of children and women, we do not want to hear any voices and cries.\" But there are signs of some fracturing among forces loyal to former Yemeni President Ali Abdullah Saleh, many of whom have fought alongside the rebels. Gen. AbdulRahman AlHalili, who leads more than 10,000 troops, has now allied himself with Hadi, military sources said Sunday. Meanwhile, Saudi Brig. Gen. Ahmed Asiri said Sunday that airstrikes had decimated the Houthis\\' central command by targeting their communications. The rebels, he said, are now holding a defensive stance in besieged areas. Since it began the campaign known as Operation Decisive Storm on March 26, the Saudi-led coalition has launched 2,300 airstrikes, Asiri said. After hours at sea, chaos and desperation in Yemeni city. CNN\\'s Don Melvin and Christine Theodorou contributed to this report.'"
      ]
     },
     "execution_count": 61,
     "metadata": {},
     "output_type": "execute_result"
    }
   ],
   "source": [
    "tokenizer.decode(b1[0], skip_special_tokens=True, clean_up_tokenization_spaces=True)"
   ]
  },
  {
   "cell_type": "code",
   "execution_count": 62,
   "metadata": {},
   "outputs": [
    {
     "data": {
      "text/plain": [
       "\"Abdul-Malik al-Houthi says in a televised address that fighters will not pull out of major cities.\\nA top military leader pledges allegiance to Yemen's ousted President.\""
      ]
     },
     "execution_count": 62,
     "metadata": {},
     "output_type": "execute_result"
    }
   ],
   "source": [
    "tokenizer.decode(b3[0], skip_special_tokens=True, clean_up_tokenization_spaces=True)"
   ]
  },
  {
   "cell_type": "code",
   "execution_count": 63,
   "metadata": {},
   "outputs": [
    {
     "data": {
      "text/plain": [
       "tensor([[    2,     0, 13112,   417,   922,    12, 18764,   967,  1076,    12,\n",
       "           725, 15617,   118,   161,    11,    10, 14451,  1100,    14,  5464,\n",
       "            40,    45,  2999,    66,     9,   538,  1947,   479, 50118,   250,\n",
       "           299,   831,   884, 19629, 24614,     7,  6519,    18, 14716,   270,\n",
       "           479,     2,     1,     1,     1,     1,     1,     1,     1,     1,\n",
       "             1,     1,     1,     1,     1,     1,     1,     1,     1,     1,\n",
       "             1,     1,     1,     1,     1,     1,     1],\n",
       "        [    2,     0, 28012,  9396,  3217,    35,   188,  5680, 17004, 16597,\n",
       "          7052,    40,   860,     7,   120, 12620,     7,  1477,   435,  3115,\n",
       "           479, 50118,   894,   161,  4766,   403,   924,   350,   171,   400,\n",
       "          6522,  2025,    75,   562,  1579,   479, 50118, 34052,   611,    40,\n",
       "            33,     7,   342,   159,     5, 28488,     6,  1339,    62,     5,\n",
       "          4757,     8,   146,   699,    14,     5,  1659,   641,  9731,     7,\n",
       "          7009,   159,    15,   249,  2134,   479,     2],\n",
       "        [    2,     0, 41612, 17115, 12134,   163, 25513,  1506,  1240,    86,\n",
       "            23,    10,  2232, 21289,    11,  2646,   605,   895,  3648,     6,\n",
       "           666,   479, 50118, 21674,   727,  1232,   697,  1025,     5,  7943,\n",
       "          6080,   261, 21289,     6,    53,   163, 25513,  4458,   161,    51,\n",
       "            32,    22, 10166,   113,     2,     1,     1,     1,     1,     1,\n",
       "             1,     1,     1,     1,     1,     1,     1,     1,     1,     1,\n",
       "             1,     1,     1,     1,     1,     1,     1],\n",
       "        [    2,     0,   673,   108, 31880,   634,  4037,     7,  1296,    66,\n",
       "           908,  2301,   479, 50118,  6179,  2235,    40,   304,    92,   714,\n",
       "          5717,   116, 50118, 33364,  1379,    59,     5,  3932,  3682,    13,\n",
       "             5,  6808,   479,     2,     1,     1,     1,     1,     1,     1,\n",
       "             1,     1,     1,     1,     1,     1,     1,     1,     1,     1,\n",
       "             1,     1,     1,     1,     1,     1,     1,     1,     1,     1,\n",
       "             1,     1,     1,     1,     1,     1,     1]], device='cuda:0')"
      ]
     },
     "execution_count": 63,
     "metadata": {},
     "output_type": "execute_result"
    }
   ],
   "source": [
    "summary_out = merge_model.summary_model.generate(b1, num_beams=1, max_length = 100, early_stopping=True)\n",
    "summary_out"
   ]
  },
  {
   "cell_type": "code",
   "execution_count": 64,
   "metadata": {},
   "outputs": [
    {
     "data": {
      "text/plain": [
       "\"Abdul-Malik al-Houthi says in a televised address that fighters will not pull out of major cities.\\nA top military leader pledges allegiance to Yemen's ousted President.\""
      ]
     },
     "execution_count": 64,
     "metadata": {},
     "output_type": "execute_result"
    }
   ],
   "source": [
    "tokenizer.decode(summary_out[0], skip_special_tokens=True, clean_up_tokenization_spaces=True)"
   ]
  },
  {
   "cell_type": "code",
   "execution_count": 65,
   "metadata": {},
   "outputs": [],
   "source": [
    "merge_model.load_state_dict(torch.load('experiment/BART_classifier_final.pt'))\n",
    "merge_model = merge_model.cuda()"
   ]
  },
  {
   "cell_type": "code",
   "execution_count": 29,
   "metadata": {},
   "outputs": [],
   "source": [
    "sent_model.load_state_dict(torch.load('experiment/classifier_model_senticlf.pt'))\n",
    "sent_model = sent_model.cuda()\n",
    "sent_model = sent_model.eval()"
   ]
  },
  {
   "cell_type": "code",
   "execution_count": 33,
   "metadata": {},
   "outputs": [
    {
     "name": "stdout",
     "output_type": "stream",
     "text": [
      "0.175555125627341 0.03472723811864853\n"
     ]
    }
   ],
   "source": [
    "temp = []\n",
    "ss = []\n",
    "\n",
    "for b1, b2, b3, b4 in train_dataloader:\n",
    "    merge_model.eval()\n",
    "    b1 = b1.cuda() \n",
    "    b2 = b2.cuda() \n",
    "    b3 = b3.cuda() \n",
    "    b4 = b4.cuda()\n",
    "    summary_out,*sentiments = merge_model(b1, b2, b3, b4)\n",
    "    ss.append(torch.abs(sent_model(summary_out.logits.argmax(dim = -1)) - sent_model(b1)/6).mean().item())\n",
    "    \n",
    "    for i in range(b3.shape[0]):\n",
    "        summary_gt = tokenizer.decode(b3[i], skip_special_tokens=True, clean_up_tokenization_spaces=True)\n",
    "        summary_pred = tokenizer.decode(summary_out.logits.argmax(dim = -1)[i], skip_special_tokens=True, clean_up_tokenization_spaces=True)\n",
    "        temp.append(get_bleu(summary_pred, summary_gt))\n",
    "        \n",
    "print(np.array(temp).mean(), np.array(ss).mean())"
   ]
  },
  {
   "cell_type": "code",
   "execution_count": 34,
   "metadata": {},
   "outputs": [],
   "source": [
    "merge_model.load_state_dict(torch.load('experiment/BART_classifier_final.pt'))\n",
    "merge_model = merge_model.cuda()"
   ]
  },
  {
   "cell_type": "code",
   "execution_count": 35,
   "metadata": {},
   "outputs": [
    {
     "name": "stdout",
     "output_type": "stream",
     "text": [
      "0.175555125627341 0.03472723811864853\n"
     ]
    }
   ],
   "source": [
    "temp = []\n",
    "ss = []\n",
    "\n",
    "for b1, b2, b3, b4 in train_dataloader:\n",
    "    merge_model.eval()\n",
    "    b1 = b1.cuda() \n",
    "    b2 = b2.cuda() \n",
    "    b3 = b3.cuda() \n",
    "    b4 = b4.cuda()\n",
    "    summary_out,*sentiments = merge_model(b1, b2, b3, b4)\n",
    "    ss.append(torch.abs(sent_model(summary_out.logits.argmax(dim = -1)) - sent_model(b1)/6).mean().item())\n",
    "    \n",
    "    for i in range(b3.shape[0]):\n",
    "        summary_gt = tokenizer.decode(b3[i], skip_special_tokens=True, clean_up_tokenization_spaces=True)\n",
    "        summary_pred = tokenizer.decode(summary_out.logits.argmax(dim = -1)[i], skip_special_tokens=True, clean_up_tokenization_spaces=True)\n",
    "        temp.append(get_bleu(summary_pred, summary_gt))\n",
    "        \n",
    "print(np.array(temp).mean(), np.array(ss).mean())"
   ]
  },
  {
   "cell_type": "code",
   "execution_count": null,
   "metadata": {},
   "outputs": [],
   "source": []
  },
  {
   "cell_type": "code",
   "execution_count": null,
   "metadata": {},
   "outputs": [],
   "source": []
  }
 ],
 "metadata": {
  "kernelspec": {
   "display_name": "Python 3",
   "language": "python",
   "name": "python3"
  },
  "language_info": {
   "codemirror_mode": {
    "name": "ipython",
    "version": 3
   },
   "file_extension": ".py",
   "mimetype": "text/x-python",
   "name": "python",
   "nbconvert_exporter": "python",
   "pygments_lexer": "ipython3",
   "version": "3.7.6"
  }
 },
 "nbformat": 4,
 "nbformat_minor": 4
}

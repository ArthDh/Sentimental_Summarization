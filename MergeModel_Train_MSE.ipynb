{
 "cells": [
  {
   "cell_type": "code",
   "execution_count": 1,
   "metadata": {},
   "outputs": [],
   "source": [
    "import os\n",
    "import time\n",
    "import json\n",
    "\n",
    "from utils.file_utils import *\n",
    "from datasets import list_datasets\n",
    "import torch\n",
    "import torch.nn as nn\n",
    "import numpy as np\n",
    "from torch.utils.data import TensorDataset, DataLoader\n",
    "import torch.nn.functional as F\n",
    "from torch.nn import CrossEntropyLoss\n",
    "from IPython import get_ipython\n",
    "import pandas as pd\n",
    "from tqdm import tqdm\n",
    "from models.MergeModel import MergeModel\n",
    "from models.ClassifierModel import ClassifierModel\n",
    "from transformers import BartTokenizer, BartForConditionalGeneration, BartForSequenceClassification\n",
    "import matplotlib.pyplot as plt\n",
    "\n",
    "get_ipython().run_line_magic('load_ext', 'autoreload')\n",
    "get_ipython().run_line_magic('autoreload', 2)"
   ]
  },
  {
   "cell_type": "code",
   "execution_count": 2,
   "metadata": {},
   "outputs": [],
   "source": [
    "tokenizer = BartTokenizer.from_pretrained('facebook/bart-base')"
   ]
  },
  {
   "cell_type": "code",
   "execution_count": 3,
   "metadata": {},
   "outputs": [
    {
     "data": {
      "text/plain": [
       "50265"
      ]
     },
     "execution_count": 3,
     "metadata": {},
     "output_type": "execute_result"
    }
   ],
   "source": [
    "vocab_size = tokenizer.vocab_size\n",
    "vocab_size"
   ]
  },
  {
   "cell_type": "code",
   "execution_count": 4,
   "metadata": {},
   "outputs": [
    {
     "name": "stdout",
     "output_type": "stream",
     "text": [
      "Number of training sentences: 11,490\n",
      "\n"
     ]
    },
    {
     "data": {
      "text/html": [
       "<div>\n",
       "<style scoped>\n",
       "    .dataframe tbody tr th:only-of-type {\n",
       "        vertical-align: middle;\n",
       "    }\n",
       "\n",
       "    .dataframe tbody tr th {\n",
       "        vertical-align: top;\n",
       "    }\n",
       "\n",
       "    .dataframe thead th {\n",
       "        text-align: right;\n",
       "    }\n",
       "</style>\n",
       "<table border=\"1\" class=\"dataframe\">\n",
       "  <thead>\n",
       "    <tr style=\"text-align: right;\">\n",
       "      <th></th>\n",
       "      <th>article</th>\n",
       "      <th>highlights</th>\n",
       "      <th>id</th>\n",
       "    </tr>\n",
       "  </thead>\n",
       "  <tbody>\n",
       "    <tr>\n",
       "      <th>5631</th>\n",
       "      <td>Dozens of staff at Manchester United's Megasto...</td>\n",
       "      <td>Mascot among dozen of staff concerned about th...</td>\n",
       "      <td>6dd7930667c3ac55ba6ffd382a7637ba5e33e065</td>\n",
       "    </tr>\n",
       "    <tr>\n",
       "      <th>5879</th>\n",
       "      <td>Ahead of a weekend featuring drama from the Ba...</td>\n",
       "      <td>Reading face Arsenal at Wembley on Saturday in...</td>\n",
       "      <td>74169a8577c0e13c81559011439392fecb8fc6c3</td>\n",
       "    </tr>\n",
       "    <tr>\n",
       "      <th>511</th>\n",
       "      <td>(CNN)[Breaking news update, posted at 5:22 p.m...</td>\n",
       "      <td>Military has not confirmed if any rescued girl...</td>\n",
       "      <td>777ad85a86e8e8675454e243517afa2689f81575</td>\n",
       "    </tr>\n",
       "    <tr>\n",
       "      <th>8859</th>\n",
       "      <td>Bearing in mind he’s a dog, Don the border col...</td>\n",
       "      <td>The bizarre incident happened on M74 near Abin...</td>\n",
       "      <td>be8a11519f9001b83610bc1e39ef476617921054</td>\n",
       "    </tr>\n",
       "    <tr>\n",
       "      <th>1023</th>\n",
       "      <td>(CNN)Saturday at the Masters, like any PGA tou...</td>\n",
       "      <td>Jordan Spieth holds lead in 2015 Masters .\\nSt...</td>\n",
       "      <td>f555b81fb888354a9a83ba9acc1bdb18791441ca</td>\n",
       "    </tr>\n",
       "    <tr>\n",
       "      <th>8101</th>\n",
       "      <td>An Australian teenager has joined the puffy po...</td>\n",
       "      <td>Aussie girl joins #kyliejennerchallenge curren...</td>\n",
       "      <td>ac351092890e1f82ee66d97139d4aaa24f6a7131</td>\n",
       "    </tr>\n",
       "    <tr>\n",
       "      <th>1201</th>\n",
       "      <td>A shocking new video appearing to show at leas...</td>\n",
       "      <td>Video seems to show militants in Libya holding...</td>\n",
       "      <td>02e7ee52406518338ea1d184af26d107a3c0ab7c</td>\n",
       "    </tr>\n",
       "    <tr>\n",
       "      <th>9423</th>\n",
       "      <td>We’ve all been there: you hear a catchy song a...</td>\n",
       "      <td>Reading scientists say chewing gum helps you f...</td>\n",
       "      <td>cc3bc57fb6a2e29054d13933fbc5f2e0a63e3d79</td>\n",
       "    </tr>\n",
       "    <tr>\n",
       "      <th>3635</th>\n",
       "      <td>England suffered an injury scare at the start ...</td>\n",
       "      <td>Broad slipped in his delivery stride and was l...</td>\n",
       "      <td>3e27e82895df660541c19e828d19a68023a04034</td>\n",
       "    </tr>\n",
       "    <tr>\n",
       "      <th>63</th>\n",
       "      <td>(CNN)Andrew Getty, one of the heirs to billion...</td>\n",
       "      <td>Andrew Getty's death appears to be from natura...</td>\n",
       "      <td>0d3c8c276d079c4c225f034c69aa024cdab7869d</td>\n",
       "    </tr>\n",
       "  </tbody>\n",
       "</table>\n",
       "</div>"
      ],
      "text/plain": [
       "                                                article  \\\n",
       "5631  Dozens of staff at Manchester United's Megasto...   \n",
       "5879  Ahead of a weekend featuring drama from the Ba...   \n",
       "511   (CNN)[Breaking news update, posted at 5:22 p.m...   \n",
       "8859  Bearing in mind he’s a dog, Don the border col...   \n",
       "1023  (CNN)Saturday at the Masters, like any PGA tou...   \n",
       "8101  An Australian teenager has joined the puffy po...   \n",
       "1201  A shocking new video appearing to show at leas...   \n",
       "9423  We’ve all been there: you hear a catchy song a...   \n",
       "3635  England suffered an injury scare at the start ...   \n",
       "63    (CNN)Andrew Getty, one of the heirs to billion...   \n",
       "\n",
       "                                             highlights  \\\n",
       "5631  Mascot among dozen of staff concerned about th...   \n",
       "5879  Reading face Arsenal at Wembley on Saturday in...   \n",
       "511   Military has not confirmed if any rescued girl...   \n",
       "8859  The bizarre incident happened on M74 near Abin...   \n",
       "1023  Jordan Spieth holds lead in 2015 Masters .\\nSt...   \n",
       "8101  Aussie girl joins #kyliejennerchallenge curren...   \n",
       "1201  Video seems to show militants in Libya holding...   \n",
       "9423  Reading scientists say chewing gum helps you f...   \n",
       "3635  Broad slipped in his delivery stride and was l...   \n",
       "63    Andrew Getty's death appears to be from natura...   \n",
       "\n",
       "                                            id  \n",
       "5631  6dd7930667c3ac55ba6ffd382a7637ba5e33e065  \n",
       "5879  74169a8577c0e13c81559011439392fecb8fc6c3  \n",
       "511   777ad85a86e8e8675454e243517afa2689f81575  \n",
       "8859  be8a11519f9001b83610bc1e39ef476617921054  \n",
       "1023  f555b81fb888354a9a83ba9acc1bdb18791441ca  \n",
       "8101  ac351092890e1f82ee66d97139d4aaa24f6a7131  \n",
       "1201  02e7ee52406518338ea1d184af26d107a3c0ab7c  \n",
       "9423  cc3bc57fb6a2e29054d13933fbc5f2e0a63e3d79  \n",
       "3635  3e27e82895df660541c19e828d19a68023a04034  \n",
       "63    0d3c8c276d079c4c225f034c69aa024cdab7869d  "
      ]
     },
     "execution_count": 4,
     "metadata": {},
     "output_type": "execute_result"
    }
   ],
   "source": [
    "df = pd.read_csv(\"dataset/test.csv\")\n",
    "\n",
    "# Report the number of sentences.\n",
    "print('Number of training sentences: {:,}\\n'.format(df.shape[0]))\n",
    "\n",
    "# Display 10 random rows from the data.\n",
    "df.sample(10)"
   ]
  },
  {
   "cell_type": "code",
   "execution_count": 5,
   "metadata": {},
   "outputs": [],
   "source": [
    "train_sentence = df.article.values\n",
    "train_target = df.highlights.values"
   ]
  },
  {
   "cell_type": "code",
   "execution_count": 6,
   "metadata": {},
   "outputs": [],
   "source": [
    "num_data_points = 10000\n",
    "train_sentence = list(train_sentence[:num_data_points])\n",
    "train_target = list(train_target[:num_data_points])"
   ]
  },
  {
   "cell_type": "code",
   "execution_count": 7,
   "metadata": {},
   "outputs": [],
   "source": [
    "article_encoding = tokenizer(train_sentence, return_tensors='pt', padding=True, truncation = True, max_length=500)\n",
    "summary_encoding = tokenizer(train_target, return_tensors='pt', padding=True,truncation = True, max_length=100)"
   ]
  },
  {
   "cell_type": "code",
   "execution_count": 8,
   "metadata": {},
   "outputs": [],
   "source": [
    "article_input_ids = article_encoding['input_ids']\n",
    "article_attention_mask = article_encoding['attention_mask']"
   ]
  },
  {
   "cell_type": "code",
   "execution_count": 9,
   "metadata": {},
   "outputs": [],
   "source": [
    "summary_input_ids = summary_encoding['input_ids']\n",
    "summary_attention_mask = summary_encoding['attention_mask']"
   ]
  },
  {
   "cell_type": "code",
   "execution_count": 10,
   "metadata": {},
   "outputs": [
    {
     "name": "stdout",
     "output_type": "stream",
     "text": [
      "torch.Size([10000, 500]) torch.Size([10000, 500])\n"
     ]
    }
   ],
   "source": [
    "print(article_input_ids.shape, article_attention_mask.shape)"
   ]
  },
  {
   "cell_type": "code",
   "execution_count": 11,
   "metadata": {},
   "outputs": [
    {
     "name": "stdout",
     "output_type": "stream",
     "text": [
      "torch.Size([10000, 100]) torch.Size([10000, 100])\n"
     ]
    }
   ],
   "source": [
    "print(summary_input_ids.shape, summary_attention_mask.shape)"
   ]
  },
  {
   "cell_type": "code",
   "execution_count": 12,
   "metadata": {},
   "outputs": [],
   "source": [
    "from torch.utils.data import TensorDataset, DataLoader, RandomSampler, SequentialSampler"
   ]
  },
  {
   "cell_type": "code",
   "execution_count": 13,
   "metadata": {},
   "outputs": [],
   "source": [
    "batch_size = 10\n",
    "train_data = TensorDataset(article_input_ids, article_attention_mask,\\\n",
    "                           summary_input_ids, summary_attention_mask)"
   ]
  },
  {
   "cell_type": "code",
   "execution_count": 14,
   "metadata": {},
   "outputs": [],
   "source": [
    "train_sampler = RandomSampler(train_data)"
   ]
  },
  {
   "cell_type": "code",
   "execution_count": 15,
   "metadata": {},
   "outputs": [],
   "source": [
    "train_dataloader = DataLoader(train_data, sampler=train_sampler, batch_size=batch_size)"
   ]
  },
  {
   "cell_type": "code",
   "execution_count": 16,
   "metadata": {},
   "outputs": [],
   "source": [
    "def loss_fn(lm_logits, labels):\n",
    "    loss_fct = CrossEntropyLoss(ignore_index = tokenizer.pad_token_id)\n",
    "    loss = loss_fct(lm_logits.view(-1, vocab_size), labels.view(-1))\n",
    "    return loss"
   ]
  },
  {
   "cell_type": "code",
   "execution_count": 17,
   "metadata": {},
   "outputs": [],
   "source": [
    "def softmax_MSE(sentiment1, sentiment2):\n",
    "    mse_loss = nn.MSELoss()    \n",
    "    s1 = F.softmax(sentiment1)\n",
    "    s2 = F.softmax(sentiment2)    \n",
    "    return mse_loss(s1,s2)"
   ]
  },
  {
   "cell_type": "code",
   "execution_count": null,
   "metadata": {},
   "outputs": [],
   "source": []
  },
  {
   "cell_type": "code",
   "execution_count": 18,
   "metadata": {},
   "outputs": [
    {
     "name": "stderr",
     "output_type": "stream",
     "text": [
      "/opt/conda/lib/python3.7/site-packages/torch/serialization.py:453: SourceChangeWarning: source code of class 'ClassifierModel.ClassifierModel' has changed. you can retrieve the original source code by accessing the object's source attribute or set `torch.nn.Module.dump_patches = True` and use the patch tool to revert the changes.\n",
      "  warnings.warn(msg, SourceChangeWarning)\n"
     ]
    }
   ],
   "source": [
    "sent_model = torch.load('experiment/classifier/classifier.pt')"
   ]
  },
  {
   "cell_type": "code",
   "execution_count": 19,
   "metadata": {},
   "outputs": [
    {
     "data": {
      "text/plain": [
       "ClassifierModel(\n",
       "  (embedding): Embedding_(\n",
       "    (embedding): Embedding(50265, 64)\n",
       "  )\n",
       "  (lstm): LSTM(64, 512, num_layers=2, batch_first=True, dropout=0.5)\n",
       "  (fc1): Linear(in_features=512, out_features=32, bias=True)\n",
       "  (fc2): Linear(in_features=32, out_features=2, bias=True)\n",
       "  (loss_fn): CrossEntropyLoss()\n",
       ")"
      ]
     },
     "execution_count": 19,
     "metadata": {},
     "output_type": "execute_result"
    }
   ],
   "source": [
    "sent_model"
   ]
  },
  {
   "cell_type": "code",
   "execution_count": 20,
   "metadata": {},
   "outputs": [],
   "source": [
    "summary_model = BartForConditionalGeneration.from_pretrained('facebook/bart-base')"
   ]
  },
  {
   "cell_type": "code",
   "execution_count": 21,
   "metadata": {},
   "outputs": [],
   "source": [
    "summary_model = summary_model.cuda()\n",
    "senti_model = sent_model.cuda()"
   ]
  },
  {
   "cell_type": "code",
   "execution_count": 22,
   "metadata": {},
   "outputs": [],
   "source": [
    "# embedding_dim = 64\n",
    "# out_dim = 2\n",
    "# n_layers = 4\n",
    "# hidden_size = 512\n",
    "merge_model = MergeModel(summary_model, senti_model,freeze_sentiment=False)\n",
    "model_name = 'MSE_softmax_regularized_1e-3'\n",
    "model_dir = './experiment'\n",
    "model_path = os.path.join(model_dir,model_name)\n",
    "epochs  = 3"
   ]
  },
  {
   "cell_type": "code",
   "execution_count": 23,
   "metadata": {},
   "outputs": [],
   "source": [
    "config = {\n",
    "#     'embedding_dim': embedding_dim,\n",
    "#     'out_dim': out_dim,\n",
    "#     'n_layers': n_layers,\n",
    "#     'hidden_size': hidden_size,\n",
    "    'model_name': model_name,\n",
    "    'epochs':epochs,\n",
    "    'lambda': 1e-3\n",
    "}"
   ]
  },
  {
   "cell_type": "code",
   "execution_count": 24,
   "metadata": {},
   "outputs": [],
   "source": [
    "def train(model, train_dataloader, val_dataloader=None, epochs=4, evaluation=False, model_dir='./experiment',optimizer='ADAM',config = None):\n",
    "    \n",
    "    train_losses = []\n",
    "    train_accs = []\n",
    "    val_losses = []\n",
    "    val_accs = []\n",
    "    min_val_loss = np.inf\n",
    "    \n",
    "    model_name = config['model_name']\n",
    "    print(f\"Start training for Model {model_name}...\\n\")\n",
    "    \n",
    "    \n",
    "    if not os.path.exists(os.path.join(model_dir,model_name)):\n",
    "        os.mkdir(os.path.join(model_dir,model_name))\n",
    "    model_path = os.path.join(model_dir,model_name)\n",
    "    write_to_file_in_dir(model_path, 'config.json', config)\n",
    "    \n",
    "    train_log =  'train_log.txt'\n",
    "    write_string_train = f\"Epoch, Cross_Entropy_Loss, MSE_Loss, Total_Loss \"\n",
    "    log_to_file_in_dir(model_path, train_log, write_string_train)\n",
    "\n",
    "    if evaluation:\n",
    "        val_log = 'val_log.txt'\n",
    "        write_string_val = f\"Epoch, Val_Loss, Val_Acc\"\n",
    "        log_to_file_in_dir(model_path, val_log, write_string_val)\n",
    "    \n",
    "    if optimizer == 'ADAM':\n",
    "        optimizer = torch.optim.Adam(model.parameters())\n",
    "    else:    \n",
    "        optimizer = torch.optim.SGD(model.parameters(),1e-3,momentum=0.9,weight_decay=0.01)\n",
    "    \n",
    "    for epoch_i in range(epochs):\n",
    "        print(f\"{'Epoch':^7} | {'Batch':^7} | {'Train Loss':^12} | {'Val Loss':^10} | {'Val Acc':^9} | {'Elapsed':^9}\")\n",
    "        print(\"-\"*70)\n",
    "        t0_epoch, t0_batch = time.time(), time.time()\n",
    "\n",
    "        total_loss, batch_loss, batch_counts = 0, 0, 0\n",
    "        model.train()\n",
    "        \n",
    "        for step, batch in enumerate(train_dataloader):\n",
    "            model.train()\n",
    "            batch_counts +=1\n",
    "            \n",
    "            batch[0] = batch[0].cuda()\n",
    "            batch[1] = batch[1].cuda()\n",
    "            batch[2] = batch[2].cuda()\n",
    "            batch[3] = batch[3].cuda()\n",
    "            \n",
    "            model.zero_grad()\n",
    "            \n",
    "            summary_out,*sentiments = merge_model(batch[0],batch[1], batch[2], batch[3])\n",
    "        \n",
    "            loss1 = loss_fn(summary_out.logits, batch[2])\n",
    "            loss2 = softmax_MSE(sentiments[0], sentiments[1])\n",
    "\n",
    "            loss = loss1 + 1e-3*loss2\n",
    "            batch_loss += loss.item()\n",
    "            total_loss += loss.item()\n",
    "            \n",
    "            train_losses.append(loss.item())\n",
    "\n",
    "            write_string_train = f\"{epoch_i}, {loss1.item()}, {loss2.item()}, {loss.item()}\"\n",
    "            log_to_file_in_dir(model_path, train_log, write_string_train)\n",
    "            \n",
    "            \n",
    "            loss.backward()\n",
    "\n",
    "            optimizer.step()\n",
    "\n",
    "            if (step % 100 == 0 and step != 0):\n",
    "                time_elapsed = time.time() - t0_batch\n",
    "\n",
    "                print(f\"{epoch_i + 1:^7} | {step:^7} | {batch_loss / batch_counts:^12.6f} | {'-':^10} | {'-':^9} | {time_elapsed:^9.2f}\")\n",
    "\n",
    "                batch_loss, batch_counts = 0, 0\n",
    "                t0_batch = time.time()\n",
    "\n",
    "                print(\"-\"*70)\n",
    "\n",
    "        if ((epoch_i %20 ==0) and (epoch_i != 0)) or (epoch_i==epochs-1):\n",
    "            if evaluation == True:\n",
    "                val_loss, val_accuracy = evaluate(model, val_dataloader)\n",
    "                val_losses.append(val_loss)\n",
    "                val_accs.append(val_accuracy)\n",
    "                \n",
    "                write_string_val = f\"{epoch_i}, {val_loss}, {val_accuracy}\"\n",
    "                log_to_file_in_dir(model_path, val_log, write_string_val)\n",
    "                \n",
    "                time_elapsed = time.time() - t0_epoch\n",
    "                \n",
    "                if val_loss < min_val_loss:\n",
    "                    min_val_loss = val_loss\n",
    "                    \n",
    "                    torch.save(model, os.path.join(model_path, f'{model_name}.pt'))\n",
    "                    \n",
    "                print(f\"{epoch_i + 1:^7} | {'-':^7} | {val_loss:^10.6f} | {val_accuracy:^9.2f} | {time_elapsed:^9.2f}\")\n",
    "        \n",
    "    torch.save(model, os.path.join(model_path,f'{model_name}_final.pt'))\n",
    "        \n",
    "    return  train_losses, train_accs, val_losses,val_accs"
   ]
  },
  {
   "cell_type": "code",
   "execution_count": 25,
   "metadata": {
    "scrolled": true
   },
   "outputs": [
    {
     "name": "stdout",
     "output_type": "stream",
     "text": [
      "Start training for Model MSE_softmax_regularized_1e-3...\n",
      "\n",
      " Epoch  |  Batch  |  Train Loss  |  Val Loss  |  Val Acc  |  Elapsed \n",
      "----------------------------------------------------------------------\n"
     ]
    },
    {
     "name": "stderr",
     "output_type": "stream",
     "text": [
      "/opt/conda/lib/python3.7/site-packages/ipykernel_launcher.py:3: UserWarning: Implicit dimension choice for softmax has been deprecated. Change the call to include dim=X as an argument.\n",
      "  This is separate from the ipykernel package so we can avoid doing imports until\n",
      "/opt/conda/lib/python3.7/site-packages/ipykernel_launcher.py:4: UserWarning: Implicit dimension choice for softmax has been deprecated. Change the call to include dim=X as an argument.\n",
      "  after removing the cwd from sys.path.\n"
     ]
    },
    {
     "name": "stdout",
     "output_type": "stream",
     "text": [
      "   1    |   100   |  12.255563   |     -      |     -     |   56.64  \n",
      "----------------------------------------------------------------------\n",
      "   1    |   200   |   9.884003   |     -      |     -     |   55.85  \n",
      "----------------------------------------------------------------------\n",
      "   1    |   300   |   9.168384   |     -      |     -     |   55.71  \n",
      "----------------------------------------------------------------------\n",
      "   1    |   400   |   8.635020   |     -      |     -     |   56.04  \n",
      "----------------------------------------------------------------------\n",
      "   1    |   500   |   8.156194   |     -      |     -     |   55.76  \n",
      "----------------------------------------------------------------------\n",
      "   1    |   600   |   7.948882   |     -      |     -     |   55.89  \n",
      "----------------------------------------------------------------------\n",
      "   1    |   700   |   7.811362   |     -      |     -     |   55.90  \n",
      "----------------------------------------------------------------------\n",
      "   1    |   800   |   7.765304   |     -      |     -     |   55.91  \n",
      "----------------------------------------------------------------------\n",
      "   1    |   900   |   7.733743   |     -      |     -     |   56.10  \n",
      "----------------------------------------------------------------------\n",
      " Epoch  |  Batch  |  Train Loss  |  Val Loss  |  Val Acc  |  Elapsed \n",
      "----------------------------------------------------------------------\n",
      "   2    |   100   |   7.604195   |     -      |     -     |   56.45  \n",
      "----------------------------------------------------------------------\n",
      "   2    |   200   |   7.622666   |     -      |     -     |   56.03  \n",
      "----------------------------------------------------------------------\n",
      "   2    |   300   |   7.597181   |     -      |     -     |   55.74  \n",
      "----------------------------------------------------------------------\n",
      "   2    |   400   |   7.585563   |     -      |     -     |   56.15  \n",
      "----------------------------------------------------------------------\n",
      "   2    |   500   |   7.583472   |     -      |     -     |   55.89  \n",
      "----------------------------------------------------------------------\n",
      "   2    |   600   |   7.599850   |     -      |     -     |   55.84  \n",
      "----------------------------------------------------------------------\n",
      "   2    |   700   |   7.580355   |     -      |     -     |   55.80  \n",
      "----------------------------------------------------------------------\n",
      "   2    |   800   |   7.560564   |     -      |     -     |   55.78  \n",
      "----------------------------------------------------------------------\n",
      "   2    |   900   |   7.562145   |     -      |     -     |   55.86  \n",
      "----------------------------------------------------------------------\n",
      " Epoch  |  Batch  |  Train Loss  |  Val Loss  |  Val Acc  |  Elapsed \n",
      "----------------------------------------------------------------------\n",
      "   3    |   100   |   7.584163   |     -      |     -     |   56.59  \n",
      "----------------------------------------------------------------------\n",
      "   3    |   200   |   7.562575   |     -      |     -     |   55.81  \n",
      "----------------------------------------------------------------------\n",
      "   3    |   300   |   7.552161   |     -      |     -     |   55.97  \n",
      "----------------------------------------------------------------------\n",
      "   3    |   400   |   7.548511   |     -      |     -     |   56.17  \n",
      "----------------------------------------------------------------------\n",
      "   3    |   500   |   7.555219   |     -      |     -     |   56.04  \n",
      "----------------------------------------------------------------------\n",
      "   3    |   600   |   7.564937   |     -      |     -     |   55.96  \n",
      "----------------------------------------------------------------------\n",
      "   3    |   700   |   7.554170   |     -      |     -     |   55.90  \n",
      "----------------------------------------------------------------------\n",
      "   3    |   800   |   7.935329   |     -      |     -     |   55.97  \n",
      "----------------------------------------------------------------------\n",
      "   3    |   900   |   7.580407   |     -      |     -     |   56.20  \n",
      "----------------------------------------------------------------------\n"
     ]
    }
   ],
   "source": [
    "stats = train(merge_model, train_dataloader, val_dataloader=None, epochs=epochs, evaluation=False,  config=config, optimizer='ADAM')"
   ]
  },
  {
   "cell_type": "code",
   "execution_count": 26,
   "metadata": {},
   "outputs": [],
   "source": [
    "train_losses, train_accs, val_losses,val_accs = stats"
   ]
  },
  {
   "cell_type": "code",
   "execution_count": 27,
   "metadata": {},
   "outputs": [
    {
     "data": {
      "text/plain": [
       "[<matplotlib.lines.Line2D at 0x7fc43967de50>]"
      ]
     },
     "execution_count": 27,
     "metadata": {},
     "output_type": "execute_result"
    },
    {
     "data": {
      "image/png": "[encoded data removed]",
      "text/plain": [
       "<Figure size 432x288 with 1 Axes>"
      ]
     },
     "metadata": {
      "needs_background": "light"
     },
     "output_type": "display_data"
    }
   ],
   "source": [
    "plt.plot(np.arange(len(train_losses)), np.array(train_losses))"
   ]
  },
  {
   "cell_type": "code",
   "execution_count": null,
   "metadata": {},
   "outputs": [],
   "source": []
  },
  {
   "cell_type": "code",
   "execution_count": null,
   "metadata": {},
   "outputs": [],
   "source": []
  },
  {
   "cell_type": "code",
   "execution_count": null,
   "metadata": {},
   "outputs": [],
   "source": []
  },
  {
   "cell_type": "code",
   "execution_count": null,
   "metadata": {},
   "outputs": [],
   "source": []
  },
  {
   "cell_type": "markdown",
   "metadata": {},
   "source": [
    "b1,b2,b3,b4 = next(iter(train_dataloader))\n",
    "b1 = b1.cuda()\n",
    "b2 = b2.cuda()\n",
    "b3 = b3.cuda()\n",
    "b4 = b4.cuda()"
   ]
  },
  {
   "cell_type": "markdown",
   "metadata": {},
   "source": [
    "b1.shape, b2.shape, b3.shape, b4.shape"
   ]
  },
  {
   "cell_type": "markdown",
   "metadata": {},
   "source": [
    "z1 = torch.nn.Parameter(torch.ones_like(b1).float()).long()\n",
    "z2 = torch.ones_like(b2)\n",
    "\n",
    "z1_dash = z1 + 5\n",
    "z2_dash = z2 + 5"
   ]
  },
  {
   "cell_type": "markdown",
   "metadata": {},
   "source": [
    "t = summary_model(b1, b2)"
   ]
  },
  {
   "cell_type": "markdown",
   "metadata": {},
   "source": [
    "t.logits.shape"
   ]
  },
  {
   "cell_type": "markdown",
   "metadata": {},
   "source": [
    "merge_model.train()"
   ]
  },
  {
   "cell_type": "markdown",
   "metadata": {},
   "source": [
    "t_dash = merge_model(b1, b2, b3,b4)"
   ]
  },
  {
   "cell_type": "markdown",
   "metadata": {},
   "source": [
    "t_dash[0].logits.shape"
   ]
  },
  {
   "cell_type": "markdown",
   "metadata": {},
   "source": [
    "loss = mse_loss(t_dash[1], t_dash[2])"
   ]
  },
  {
   "cell_type": "markdown",
   "metadata": {},
   "source": [
    "print(torch.autograd.grad(loss,merge_model.summary_model.parameters(), retain_graph=True))"
   ]
  },
  {
   "cell_type": "markdown",
   "metadata": {},
   "source": []
  }
 ],
 "metadata": {
  "kernelspec": {
   "display_name": "Python 3",
   "language": "python",
   "name": "python3"
  },
  "language_info": {
   "codemirror_mode": {
    "name": "ipython",
    "version": 3
   },
   "file_extension": ".py",
   "mimetype": "text/x-python",
   "name": "python",
   "nbconvert_exporter": "python",
   "pygments_lexer": "ipython3",
   "version": "3.7.6"
  }
 },
 "nbformat": 4,
 "nbformat_minor": 4
}
